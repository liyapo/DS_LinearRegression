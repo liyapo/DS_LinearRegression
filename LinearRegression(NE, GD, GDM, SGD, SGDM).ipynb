{
 "cells": [
  {
   "cell_type": "markdown",
   "metadata": {},
   "source": [
    "### Linear Regression with possible modes of 'NE' (normal equation, exact solution), 'GD' (gradient descent) ,\n",
    "### 'GDM' (GD with momentum), 'SGD' (stochastic GD) and 'SGDM' (SGD with momentum)  "
   ]
  },
  {
   "cell_type": "code",
   "execution_count": 1,
   "metadata": {},
   "outputs": [],
   "source": [
    "import numpy as np"
   ]
  },
  {
   "cell_type": "code",
   "execution_count": 2,
   "metadata": {},
   "outputs": [],
   "source": [
    "class LinearRegression():\n",
    "        def __init__(self, mode = \"NE\", learn_rate = 0.01, max_iter = 1000, beta = 0.9, tolerance = 1e-4):\n",
    "            if mode not in [\"NE\", \"GD\", \"GDM\", \"SGD\", \"SGDM\"]:\n",
    "                raise ValueError(mode + \" is not a valid choice.\")\n",
    "            self.mode = mode\n",
    "            # parameters\n",
    "            self.Theta = None\n",
    "            # learning rate for GD \n",
    "            self.learn_rate = learn_rate\n",
    "            # number of max iterations in GD\n",
    "            self.max_iter = max_iter\n",
    "            # optimizing with momentum \n",
    "            self.beta = beta\n",
    "            self.z = None\n",
    "            # the minimum value of norm(grad)\n",
    "            self.tolerance = tolerance\n",
    "        \n",
    "            \n",
    "        def fit(self, X, Y):\n",
    "            X_1 = np.c_[np.ones(X.shape[0]), X]\n",
    "            \n",
    "            # The exact solution\n",
    "            if self.mode == \"NE\":\n",
    "                self.Theta = np.linalg.inv(X_1.T.dot(X_1)).dot(X_1.T.dot(Y))\n",
    "                return True\n",
    "            \n",
    "            # Gradient Descent\n",
    "            elif self.mode == \"GD\":\n",
    "                if self.Theta is None:\n",
    "                    self.Theta = np.zeros((X_1.shape[1], 1))\n",
    "                grad = X_1.T.dot(X_1.dot(self.Theta) - Y)/X_1.shape[0]\n",
    "                for i in range(self.max_iter):\n",
    "                    # check that gradient is not too small value\n",
    "                    if np.linalg.norm(grad) > self.tolerance:\n",
    "                        self.Theta -= self.learn_rate*grad\n",
    "                        grad = X_1.T.dot(X_1.dot(self.Theta) - Y)/X_1.shape[0]\n",
    "                return True\n",
    "            \n",
    "            # Gradient Descent with Momentum\n",
    "            elif self.mode == \"GDM\":\n",
    "                if self.Theta is None:\n",
    "                    self.Theta = np.zeros((X_1.shape[1], 1))\n",
    "                    self.z = np.zeros_like(self.Theta)\n",
    "                grad = X_1.T.dot(X_1.dot(self.Theta) - Y)/X_1.shape[0]\n",
    "                for i in range(self.max_iter):\n",
    "                    # check that gradient is not too small value\n",
    "                    if np.linalg.norm(grad) > self.tolerance:\n",
    "                        # momentum optimization\n",
    "                        self.z = self.beta*self.z + grad\n",
    "                        self.Theta -= self.learn_rate*self.z\n",
    "                        grad = X_1.T.dot(X_1.dot(self.Theta) - Y)/X_1.shape[0]\n",
    "            \n",
    "            # Stochastic Gradient Descent\n",
    "            elif self.mode == \"SGD\":\n",
    "                print(\"SGD\")\n",
    "                return True\n",
    "            \n",
    "            # Stochastic Gradient Descent with Momentum\n",
    "            elif self.mode == \"SGDM\":\n",
    "                print(\"SGDM\")\n",
    "                return True\n",
    "            \n",
    "        def predict(self, X):\n",
    "            if self.Theta is None:\n",
    "                return False\n",
    "            else:\n",
    "                X_1 = np.c_[np.ones(X.shape[0]), X]\n",
    "                return X_1.dot(self.Theta)"
   ]
  },
  {
   "cell_type": "markdown",
   "metadata": {},
   "source": [
    "### Examples"
   ]
  },
  {
   "cell_type": "markdown",
   "metadata": {},
   "source": [
    "### Simple data set"
   ]
  },
  {
   "cell_type": "code",
   "execution_count": 3,
   "metadata": {},
   "outputs": [],
   "source": [
    "import matplotlib.pyplot as plt"
   ]
  },
  {
   "cell_type": "code",
   "execution_count": 4,
   "metadata": {},
   "outputs": [
    {
     "name": "stdout",
     "output_type": "stream",
     "text": [
      "(50, 1) (50, 1)\n"
     ]
    }
   ],
   "source": [
    "x_ = np.array(10 * np.random.rand(50))\n",
    "y_ = 2 * x_ - 5 + np.random.randn(50)\n",
    "x = x_.reshape(50, 1)\n",
    "y = y_.reshape(50, 1)\n",
    "print(x.shape, y.shape)"
   ]
  },
  {
   "cell_type": "code",
   "execution_count": 5,
   "metadata": {},
   "outputs": [
    {
     "data": {
      "text/plain": [
       "array([[-4.87285869],\n",
       "       [ 1.97636405]])"
      ]
     },
     "execution_count": 5,
     "metadata": {},
     "output_type": "execute_result"
    }
   ],
   "source": [
    "simple_modelNE = LinearRegression(mode=\"NE\")\n",
    "simple_modelNE.fit(x, y)\n",
    "y_predNE = simple_modelNE.predict(x)\n",
    "simple_modelNE.Theta"
   ]
  },
  {
   "cell_type": "code",
   "execution_count": 6,
   "metadata": {},
   "outputs": [
    {
     "data": {
      "text/plain": [
       "array([[-4.68702444],\n",
       "       [ 1.94842389]])"
      ]
     },
     "execution_count": 6,
     "metadata": {},
     "output_type": "execute_result"
    }
   ],
   "source": [
    "simple_modelGD = LinearRegression(mode=\"GD\", max_iter=1000)\n",
    "simple_modelGD.fit(x, y)\n",
    "y_predGD = simple_modelGD.predict(x)\n",
    "simple_modelGD.Theta"
   ]
  },
  {
   "cell_type": "code",
   "execution_count": 7,
   "metadata": {},
   "outputs": [
    {
     "data": {
      "text/plain": [
       "array([[-4.87245974],\n",
       "       [ 1.97292073]])"
      ]
     },
     "execution_count": 7,
     "metadata": {},
     "output_type": "execute_result"
    }
   ],
   "source": [
    "simple_modelGDM = LinearRegression(mode=\"GDM\", max_iter=100)\n",
    "simple_modelGDM.fit(x, y)\n",
    "y_predGDM = simple_modelGDM.predict(x)\n",
    "simple_modelGDM.Theta"
   ]
  },
  {
   "cell_type": "code",
   "execution_count": 8,
   "metadata": {},
   "outputs": [
    {
     "data": {
      "text/plain": [
       "[<matplotlib.lines.Line2D at 0x1025dc88>]"
      ]
     },
     "execution_count": 8,
     "metadata": {},
     "output_type": "execute_result"
    },
    {
     "data": {
      "image/png": "[encoded data removed]",
      "text/plain": [
       "<matplotlib.figure.Figure at 0xe1e7b70>"
      ]
     },
     "metadata": {},
     "output_type": "display_data"
    }
   ],
   "source": [
    "plt.scatter(x, y)\n",
    "plt.plot(x, y_predNE, \"r-\")\n",
    "plt.plot(x, y_predGD, \"m*\")\n",
    "plt.plot(x, y_predGDM, \"g-\")"
   ]
  },
  {
   "cell_type": "markdown",
   "metadata": {},
   "source": [
    "### Data set with more features"
   ]
  },
  {
   "cell_type": "code",
   "execution_count": 9,
   "metadata": {},
   "outputs": [
    {
     "name": "stdout",
     "output_type": "stream",
     "text": [
      "Wall time: 0 ns\n"
     ]
    }
   ],
   "source": [
    "%%time\n",
    "X = np.random.rand(500, 10)\n",
    "X_1 = np.c_[np.ones(X.shape[0]), X]\n",
    "Theta_1 = np.array([[-5,10,2,7,4.5,0.1,0.01,-1,1,3,0]])\n",
    "Err = np.random.normal(0, 0.1, size=(X_1.shape[0], 1)) \n",
    "Y = X_1.dot(Theta_1.T) + Err"
   ]
  },
  {
   "cell_type": "code",
   "execution_count": 10,
   "metadata": {},
   "outputs": [
    {
     "name": "stdout",
     "output_type": "stream",
     "text": [
      "[-4.97790855] --> [-5.]\n",
      "[ 10.00923109] --> [ 10.]\n",
      "[ 2.00780211] --> [ 2.]\n",
      "[ 6.98563707] --> [ 7.]\n",
      "[ 4.496534] --> [ 4.5]\n",
      "[ 0.08755925] --> [ 0.1]\n",
      "[ 0.02408392] --> [ 0.01]\n",
      "[-1.01585253] --> [-1.]\n",
      "[ 0.99256776] --> [ 1.]\n",
      "[ 2.98067953] --> [ 3.]\n",
      "[-0.00356715] --> [ 0.]\n",
      "Wall time: 10 ms\n"
     ]
    }
   ],
   "source": [
    "%%time\n",
    "modelNE = LinearRegression(mode=\"NE\")\n",
    "modelNE.fit(X, Y)\n",
    "for i in range(modelNE.Theta.shape[0]):\n",
    "    print(modelNE.Theta[i], '-->', Theta_1.T[i])"
   ]
  },
  {
   "cell_type": "code",
   "execution_count": 11,
   "metadata": {},
   "outputs": [
    {
     "name": "stdout",
     "output_type": "stream",
     "text": [
      "[-4.97363416] --> [-5.]\n",
      "[ 10.00840108] --> [ 10.]\n",
      "[ 2.00697499] --> [ 2.]\n",
      "[ 6.98479603] --> [ 7.]\n",
      "[ 4.49588653] --> [ 4.5]\n",
      "[ 0.08663234] --> [ 0.1]\n",
      "[ 0.02331177] --> [ 0.01]\n",
      "[-1.01667252] --> [-1.]\n",
      "[ 0.99158078] --> [ 1.]\n",
      "[ 2.97972691] --> [ 3.]\n",
      "[-0.00440843] --> [ 0.]\n",
      "Wall time: 760 ms\n"
     ]
    }
   ],
   "source": [
    "%%time\n",
    "modelGD = LinearRegression(mode=\"GD\", max_iter=30000)\n",
    "modelGD.fit(X, Y)\n",
    "for i in range(modelGD.Theta.shape[0]):\n",
    "    print(modelGD.Theta[i], '-->', Theta_1.T[i])"
   ]
  },
  {
   "cell_type": "code",
   "execution_count": 12,
   "metadata": {},
   "outputs": [
    {
     "name": "stdout",
     "output_type": "stream",
     "text": [
      "[-4.97426253] --> [-5.]\n",
      "[ 10.0085231] --> [ 10.]\n",
      "[ 2.00709658] --> [ 2.]\n",
      "[ 6.98491967] --> [ 7.]\n",
      "[ 4.49598171] --> [ 4.5]\n",
      "[ 0.0867686] --> [ 0.1]\n",
      "[ 0.02342528] --> [ 0.01]\n",
      "[-1.01655197] --> [-1.]\n",
      "[ 0.99172588] --> [ 1.]\n",
      "[ 2.97986696] --> [ 3.]\n",
      "[-0.00428475] --> [ 0.]\n",
      "Wall time: 90 ms\n"
     ]
    }
   ],
   "source": [
    "%%time\n",
    "modelGDM = LinearRegression(mode=\"GDM\", max_iter=3000)\n",
    "modelGDM.fit(X, Y)\n",
    "for i in range(modelGDM.Theta.shape[0]):\n",
    "    print(modelGDM.Theta[i], '-->', Theta_1.T[i])"
   ]
  },
  {
   "cell_type": "code",
   "execution_count": null,
   "metadata": {},
   "outputs": [],
   "source": []
  }
 ],
 "metadata": {
  "kernelspec": {
   "display_name": "Python 3",
   "language": "python",
   "name": "python3"
  },
  "language_info": {
   "codemirror_mode": {
    "name": "ipython",
    "version": 3
   },
   "file_extension": ".py",
   "mimetype": "text/x-python",
   "name": "python",
   "nbconvert_exporter": "python",
   "pygments_lexer": "ipython3",
   "version": "3.6.3"
  }
 },
 "nbformat": 4,
 "nbformat_minor": 2
}
