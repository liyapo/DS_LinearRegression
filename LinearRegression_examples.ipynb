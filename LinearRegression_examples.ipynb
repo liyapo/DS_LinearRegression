{
 "cells": [
  {
   "cell_type": "markdown",
   "metadata": {},
   "source": [
    "### Linear Regression with possible modes of 'NE' (normal equation, exact solution), 'GD' (gradient descent) ,\n",
    "### 'GDM' (GD with momentum), 'SGD' (stochastic GD), 'SGDM' (stochastic GD with momentum)"
   ]
  },
  {
   "cell_type": "code",
   "execution_count": 1,
   "metadata": {},
   "outputs": [],
   "source": [
    "import numpy as np"
   ]
  },
  {
   "cell_type": "code",
   "execution_count": 2,
   "metadata": {},
   "outputs": [],
   "source": [
    "class LinearRegression():\n",
    "        \n",
    "        #********************************************************************\n",
    "        # INITIALIZING  \n",
    "        #********************************************************************\n",
    "        def __init__(self, mode = \"NE\", learn_rate = 0.01, nb_epochs = 1000, batch_size = 32, beta = 0.9, tolerance = 1e-4):\n",
    "            if mode not in [\"NE\", \"GD\", \"GDM\", \"SGD\", \"SGDM\"]:\n",
    "                raise ValueError(mode + \" is not a valid choice.\")\n",
    "            self.mode = mode\n",
    "            # parameters\n",
    "            self.Theta = None\n",
    "            # learning rate  \n",
    "            self.learn_rate = learn_rate\n",
    "            # number of max iterations \n",
    "            self.nb_epochs = nb_epochs\n",
    "            # optimizing with momentum \n",
    "            self.beta = beta\n",
    "            self.mo = None\n",
    "            # the minimum value of norm(grad) for momentum optimization\n",
    "            self.tolerance = tolerance\n",
    "            # size of batch in SGD\n",
    "            self.batch_size = batch_size\n",
    "        \n",
    "        \n",
    "        #********************************************************************\n",
    "        # FIT \n",
    "        #********************************************************************\n",
    "        \n",
    "        def fit(self, X, Y):\n",
    "            X_1 = np.c_[np.ones(X.shape[0]), X]\n",
    "            \n",
    "            #----------------------------------------------------------------\n",
    "            # The exact solution\n",
    "            #----------------------------------------------------------------\n",
    "            \n",
    "            if self.mode == \"NE\":\n",
    "                self.Theta = np.linalg.inv(X_1.T.dot(X_1)).dot(X_1.T.dot(Y))\n",
    "                return True\n",
    "            \n",
    "            \n",
    "            #----------------------------------------------------------------\n",
    "            # Gradient Descent\n",
    "            #----------------------------------------------------------------\n",
    "            \n",
    "            elif self.mode == \"GD\":\n",
    "                if self.Theta is None:\n",
    "                    self.Theta = np.zeros((X_1.shape[1], 1))\n",
    "                grad = X_1.T.dot(X_1.dot(self.Theta) - Y)/X_1.shape[0]\n",
    "                for i in range(self.nb_epochs):\n",
    "                    # check that gradient is not too small value\n",
    "                    if np.linalg.norm(grad) > self.tolerance:\n",
    "                        self.Theta -= self.learn_rate*grad\n",
    "                        grad = X_1.T.dot(X_1.dot(self.Theta) - Y)/X_1.shape[0]\n",
    "                return True\n",
    "            \n",
    "            \n",
    "            #----------------------------------------------------------------\n",
    "            # Gradient Descent with Momentum\n",
    "            #----------------------------------------------------------------\n",
    "            \n",
    "            elif self.mode == \"GDM\":\n",
    "                if self.Theta is None:\n",
    "                    self.Theta = np.zeros((X_1.shape[1], 1))\n",
    "                    self.mo = np.zeros_like(self.Theta)\n",
    "                grad = X_1.T.dot(X_1.dot(self.Theta) - Y)/X_1.shape[0]\n",
    "                for i in range(self.nb_epochs):\n",
    "                    # check that gradient is not too small value\n",
    "                    if np.linalg.norm(grad) > self.tolerance:\n",
    "                        # momentum optimization\n",
    "                        self.mo = self.beta*self.mo + grad\n",
    "                        self.Theta -= self.learn_rate*self.mo\n",
    "                        grad = X_1.T.dot(X_1.dot(self.Theta) - Y)/X_1.shape[0]\n",
    "                return True\n",
    "            \n",
    "            \n",
    "            #----------------------------------------------------------------\n",
    "            # Stochastic Gradient Descent\n",
    "            #----------------------------------------------------------------\n",
    "            \n",
    "            elif self.mode == \"SGD\":                \n",
    "                if self.Theta is None:\n",
    "                    self.Theta = np.zeros((X_1.shape[1], 1))\n",
    "                    \n",
    "                # Calculating number of batches\n",
    "                nb_X = X_1.shape[0]\n",
    "                nb_batch = int(nb_X / self.batch_size)\n",
    "            \n",
    "                # If size of last batch is less that batch_size\n",
    "                # then consider it as another batch anyway\n",
    "                if nb_X % nb_batch != 0:\n",
    "                    nb_batch += 1\n",
    "                 \n",
    "                for i in range(self.nb_epochs):\n",
    "                    # returns permuted range \n",
    "                    permuted_nb_batch = np.random.permutation(nb_batch)\n",
    "                \n",
    "                    for batch in range(nb_batch):\n",
    "                        # we run through the list of permuted batches\n",
    "                        # len(permuted_nb_batch) = nb_batch\n",
    "                        j = permuted_nb_batch[batch]                    \n",
    "                        x_batch = X_1[j*self.batch_size:(j+1)*self.batch_size,:]\n",
    "                        y_batch = Y[j*self.batch_size:(j+1)*self.batch_size,:]\n",
    "                                        \n",
    "                        grad = (x_batch.T.dot(x_batch.dot(self.Theta) - y_batch)) / x_batch.shape[0]                        \n",
    "                        self.Theta -= self.learn_rate*grad\n",
    "                return True\n",
    "            \n",
    "            \n",
    "            #----------------------------------------------------------------\n",
    "            # Stochastic Gradient Descent with momentum\n",
    "            #----------------------------------------------------------------\n",
    "            \n",
    "            elif self.mode == \"SGDM\":                \n",
    "                if self.Theta is None:\n",
    "                    self.Theta = np.zeros((X_1.shape[1], 1))\n",
    "                    self.mo = np.zeros_like(self.Theta)\n",
    "                    \n",
    "                # Calculating number of batches\n",
    "                nb_X = X_1.shape[0]\n",
    "                nb_batch = int(nb_X / self.batch_size)\n",
    "            \n",
    "                # If size of last batch is less that batch_size\n",
    "                # then consider it as another batch anyway\n",
    "                if nb_X % nb_batch != 0:\n",
    "                    nb_batch += 1\n",
    "                 \n",
    "                for i in range(self.nb_epochs):\n",
    "                    # returns permuted range \n",
    "                    permuted_nb_batch = np.random.permutation(nb_batch)\n",
    "                \n",
    "                    for batch in range(nb_batch):\n",
    "                        # we run through the list of permuted batches\n",
    "                        # len(permuted_nb_batch) = nb_batch\n",
    "                        j = permuted_nb_batch[batch]                    \n",
    "                        x_batch = X_1[j*self.batch_size:(j+1)*self.batch_size,:]\n",
    "                        y_batch = Y[j*self.batch_size:(j+1)*self.batch_size,:]\n",
    "                                        \n",
    "                        grad = (x_batch.T.dot(x_batch.dot(self.Theta) - y_batch)) / x_batch.shape[0]\n",
    "                        # momentum optimization\n",
    "                        self.mo = self.beta*self.mo + grad\n",
    "                        self.Theta -= self.learn_rate*self.mo\n",
    "                return True\n",
    "               \n",
    "        \n",
    "        #********************************************************************\n",
    "        # PREDICT \n",
    "        #********************************************************************                \n",
    "            \n",
    "        def predict(self, X):\n",
    "            if self.Theta is None:\n",
    "                return False\n",
    "            else:\n",
    "                X_1 = np.c_[np.ones(X.shape[0]), X]\n",
    "                return X_1.dot(self.Theta)"
   ]
  },
  {
   "cell_type": "markdown",
   "metadata": {},
   "source": [
    "### Examples"
   ]
  },
  {
   "cell_type": "markdown",
   "metadata": {},
   "source": [
    "### Simple data set"
   ]
  },
  {
   "cell_type": "code",
   "execution_count": 3,
   "metadata": {},
   "outputs": [],
   "source": [
    "import matplotlib.pyplot as plt"
   ]
  },
  {
   "cell_type": "code",
   "execution_count": 4,
   "metadata": {},
   "outputs": [
    {
     "name": "stdout",
     "output_type": "stream",
     "text": [
      "(50, 1) (50, 1)\n"
     ]
    }
   ],
   "source": [
    "x_ = np.array(10 * np.random.rand(50))\n",
    "y_ = 2 * x_ - 5 + np.random.randn(50)\n",
    "x = x_.reshape(50, 1)\n",
    "y = y_.reshape(50, 1)\n",
    "print(x.shape, y.shape)"
   ]
  },
  {
   "cell_type": "code",
   "execution_count": 5,
   "metadata": {},
   "outputs": [
    {
     "data": {
      "text/plain": [
       "array([[-5.18927208],\n",
       "       [ 2.01156254]])"
      ]
     },
     "execution_count": 5,
     "metadata": {},
     "output_type": "execute_result"
    }
   ],
   "source": [
    "simple_modelNE = LinearRegression(mode=\"NE\")\n",
    "simple_modelNE.fit(x, y)\n",
    "y_predNE = simple_modelNE.predict(x)\n",
    "simple_modelNE.Theta"
   ]
  },
  {
   "cell_type": "code",
   "execution_count": 6,
   "metadata": {},
   "outputs": [
    {
     "data": {
      "text/plain": [
       "array([[-4.65861882],\n",
       "       [ 1.93025611]])"
      ]
     },
     "execution_count": 6,
     "metadata": {},
     "output_type": "execute_result"
    }
   ],
   "source": [
    "simple_modelGD = LinearRegression(mode=\"GD\", nb_epochs=1000)\n",
    "simple_modelGD.fit(x, y)\n",
    "y_predGD = simple_modelGD.predict(x)\n",
    "simple_modelGD.Theta"
   ]
  },
  {
   "cell_type": "code",
   "execution_count": 7,
   "metadata": {},
   "outputs": [
    {
     "data": {
      "text/plain": [
       "array([[-4.86149006],\n",
       "       [ 1.96558943]])"
      ]
     },
     "execution_count": 7,
     "metadata": {},
     "output_type": "execute_result"
    }
   ],
   "source": [
    "simple_modelGDM = LinearRegression(mode=\"GDM\", nb_epochs=100)\n",
    "simple_modelGDM.fit(x, y)\n",
    "y_predGDM = simple_modelGDM.predict(x)\n",
    "simple_modelGDM.Theta"
   ]
  },
  {
   "cell_type": "code",
   "execution_count": 8,
   "metadata": {},
   "outputs": [
    {
     "data": {
      "text/plain": [
       "array([[-5.55387886],\n",
       "       [ 2.08048258]])"
      ]
     },
     "execution_count": 8,
     "metadata": {},
     "output_type": "execute_result"
    }
   ],
   "source": [
    "simple_modelSGD = LinearRegression(mode=\"SGD\", nb_epochs=2000)\n",
    "simple_modelSGD.fit(x, y)\n",
    "y_predSGD = simple_modelSGD.predict(x)\n",
    "simple_modelSGD.Theta"
   ]
  },
  {
   "cell_type": "code",
   "execution_count": 9,
   "metadata": {},
   "outputs": [
    {
     "data": {
      "text/plain": [
       "array([[-5.47840457],\n",
       "       [ 2.06912018]])"
      ]
     },
     "execution_count": 9,
     "metadata": {},
     "output_type": "execute_result"
    }
   ],
   "source": [
    "simple_modelSGDM = LinearRegression(mode=\"SGDM\", nb_epochs=150)\n",
    "simple_modelSGDM.fit(x, y)\n",
    "y_predSGDM = simple_modelSGDM.predict(x)\n",
    "simple_modelSGDM.Theta"
   ]
  },
  {
   "cell_type": "code",
   "execution_count": 10,
   "metadata": {},
   "outputs": [
    {
     "data": {
      "text/plain": [
       "[<matplotlib.lines.Line2D at 0x101e1f98>]"
      ]
     },
     "execution_count": 10,
     "metadata": {},
     "output_type": "execute_result"
    },
    {
     "data": {
      "image/png": "[encoded data removed]",
      "text/plain": [
       "<matplotlib.figure.Figure at 0xe184160>"
      ]
     },
     "metadata": {},
     "output_type": "display_data"
    }
   ],
   "source": [
    "plt.scatter(x, y)\n",
    "plt.plot(x, y_predNE, \"r-\")\n",
    "plt.plot(x, y_predGD, \"m*\")\n",
    "plt.plot(x, y_predGDM, \"g-\")"
   ]
  },
  {
   "cell_type": "markdown",
   "metadata": {},
   "source": [
    "### Data set with more features"
   ]
  },
  {
   "cell_type": "code",
   "execution_count": 11,
   "metadata": {},
   "outputs": [],
   "source": [
    "X = np.random.rand(500, 10)\n",
    "X_1 = np.c_[np.ones(X.shape[0]), X]\n",
    "Theta_1 = np.array([[-5,10,2,7,4.5,0.1,0.01,-1,1,3,0]])\n",
    "Err = np.random.normal(0, 0.1, size=(X_1.shape[0], 1)) \n",
    "Y = X_1.dot(Theta_1.T) + Err"
   ]
  },
  {
   "cell_type": "code",
   "execution_count": 12,
   "metadata": {},
   "outputs": [
    {
     "name": "stdout",
     "output_type": "stream",
     "text": [
      "Wall time: 0 ns\n",
      "[-4.98421433] --> [-5.]\n",
      "[ 9.9621895] --> [ 10.]\n",
      "[ 1.98774587] --> [ 2.]\n",
      "[ 7.02257578] --> [ 7.]\n",
      "[ 4.50192529] --> [ 4.5]\n",
      "[ 0.11281694] --> [ 0.1]\n",
      "[-0.0073054] --> [ 0.01]\n",
      "[-0.97825976] --> [-1.]\n",
      "[ 0.99968852] --> [ 1.]\n",
      "[ 3.01188402] --> [ 3.]\n",
      "[-0.02206315] --> [ 0.]\n"
     ]
    }
   ],
   "source": [
    "modelNE = LinearRegression(mode=\"NE\")\n",
    "%time modelNE.fit(X, Y)\n",
    "for i in range(modelNE.Theta.shape[0]):\n",
    "    print(modelNE.Theta[i], '-->', Theta_1.T[i])"
   ]
  },
  {
   "cell_type": "code",
   "execution_count": 13,
   "metadata": {},
   "outputs": [
    {
     "name": "stdout",
     "output_type": "stream",
     "text": [
      "Wall time: 750 ms\n",
      "[-4.87147233] --> [-5.]\n",
      "[ 9.93245847] --> [ 10.]\n",
      "[ 1.97174981] --> [ 2.]\n",
      "[ 6.99754145] --> [ 7.]\n",
      "[ 4.48102202] --> [ 4.5]\n",
      "[ 0.09138009] --> [ 0.1]\n",
      "[-0.02538744] --> [ 0.01]\n",
      "[-1.00280426] --> [-1.]\n",
      "[ 0.98307488] --> [ 1.]\n",
      "[ 2.99719962] --> [ 3.]\n",
      "[-0.05430666] --> [ 0.]\n"
     ]
    }
   ],
   "source": [
    "modelGD = LinearRegression(mode=\"GD\", nb_epochs=20000)\n",
    "%time modelGD.fit(X, Y)\n",
    "for i in range(modelGD.Theta.shape[0]):\n",
    "    print(modelGD.Theta[i], '-->', Theta_1.T[i])"
   ]
  },
  {
   "cell_type": "code",
   "execution_count": 14,
   "metadata": {},
   "outputs": [
    {
     "name": "stdout",
     "output_type": "stream",
     "text": [
      "Wall time: 90 ms\n",
      "[-4.87879883] --> [-5.]\n",
      "[ 9.93439086] --> [ 10.]\n",
      "[ 1.9727893] --> [ 2.]\n",
      "[ 6.99916892] --> [ 7.]\n",
      "[ 4.48238078] --> [ 4.5]\n",
      "[ 0.09277362] --> [ 0.1]\n",
      "[-0.02421358] --> [ 0.01]\n",
      "[-1.00120914] --> [-1.]\n",
      "[ 0.98415408] --> [ 1.]\n",
      "[ 2.99815351] --> [ 3.]\n",
      "[-0.05221121] --> [ 0.]\n"
     ]
    }
   ],
   "source": [
    "modelGDM = LinearRegression(mode=\"GDM\", nb_epochs=2000)\n",
    "%time modelGDM.fit(X, Y)\n",
    "for i in range(modelGDM.Theta.shape[0]):\n",
    "    print(modelGDM.Theta[i], '-->', Theta_1.T[i])"
   ]
  },
  {
   "cell_type": "code",
   "execution_count": 15,
   "metadata": {},
   "outputs": [
    {
     "name": "stdout",
     "output_type": "stream",
     "text": [
      "Wall time: 600 ms\n",
      "[-4.9434931] --> [-5.]\n",
      "[ 9.95222655] --> [ 10.]\n",
      "[ 1.982912] --> [ 2.]\n",
      "[ 7.01078195] --> [ 7.]\n",
      "[ 4.49368032] --> [ 4.5]\n",
      "[ 0.10528523] --> [ 0.1]\n",
      "[-0.01244892] --> [ 0.01]\n",
      "[-0.9864597] --> [-1.]\n",
      "[ 0.99376198] --> [ 1.]\n",
      "[ 3.00553634] --> [ 3.]\n",
      "[-0.03322405] --> [ 0.]\n"
     ]
    }
   ],
   "source": [
    "modelSGD = LinearRegression(mode=\"SGD\", nb_epochs=1500)\n",
    "%time modelSGD.fit(X, Y)\n",
    "for i in range(modelSGD.Theta.shape[0]):\n",
    "    print(modelSGD.Theta[i], '-->', Theta_1.T[i])"
   ]
  },
  {
   "cell_type": "code",
   "execution_count": 16,
   "metadata": {},
   "outputs": [
    {
     "name": "stdout",
     "output_type": "stream",
     "text": [
      "Wall time: 80 ms\n",
      "[-4.94856412] --> [-5.]\n",
      "[ 9.9516315] --> [ 10.]\n",
      "[ 1.9831856] --> [ 2.]\n",
      "[ 7.01180804] --> [ 7.]\n",
      "[ 4.49494055] --> [ 4.5]\n",
      "[ 0.10621486] --> [ 0.1]\n",
      "[-0.01165184] --> [ 0.01]\n",
      "[-0.98583417] --> [-1.]\n",
      "[ 0.99554587] --> [ 1.]\n",
      "[ 3.00633728] --> [ 3.]\n",
      "[-0.03113171] --> [ 0.]\n"
     ]
    }
   ],
   "source": [
    "modelSGDM = LinearRegression(mode=\"SGDM\", nb_epochs=150)\n",
    "%time modelSGDM.fit(X, Y)\n",
    "for i in range(modelSGDM.Theta.shape[0]):\n",
    "    print(modelSGDM.Theta[i], '-->', Theta_1.T[i])"
   ]
  },
  {
   "cell_type": "code",
   "execution_count": 29,
   "metadata": {},
   "outputs": [
    {
     "name": "stdout",
     "output_type": "stream",
     "text": [
      "Wall time: 20 ms\n"
     ]
    },
    {
     "data": {
      "text/plain": [
       "0.99941387938769843"
      ]
     },
     "execution_count": 29,
     "metadata": {},
     "output_type": "execute_result"
    }
   ],
   "source": [
    "from sklearn import linear_model\n",
    "\n",
    "sklearn_linreg = linear_model.LinearRegression()\n",
    "%time sklearn_linreg.fit(X, Y)\n",
    "sklearn_linreg.predict(X)\n",
    "sklearn_linreg.score(X, Y)"
   ]
  },
  {
   "cell_type": "code",
   "execution_count": null,
   "metadata": {},
   "outputs": [],
   "source": []
  }
 ],
 "metadata": {
  "kernelspec": {
   "display_name": "Python 3",
   "language": "python",
   "name": "python3"
  },
  "language_info": {
   "codemirror_mode": {
    "name": "ipython",
    "version": 3
   },
   "file_extension": ".py",
   "mimetype": "text/x-python",
   "name": "python",
   "nbconvert_exporter": "python",
   "pygments_lexer": "ipython3",
   "version": "3.6.3"
  }
 },
 "nbformat": 4,
 "nbformat_minor": 2
}
