{
 "cells": [
  {
   "cell_type": "markdown",
   "metadata": {},
   "source": [
    "### Linear Regression with possible modes of 'NE' (normal equation, exact solution), 'GD' (gradient descent) ,\n",
    "### 'GDM' (GD with momentum), 'SGD' (stochastic GD), 'SGDM' (stochastic GD with momentum)"
   ]
  },
  {
   "cell_type": "code",
   "execution_count": 1,
   "metadata": {},
   "outputs": [],
   "source": [
    "import numpy as np"
   ]
  },
  {
   "cell_type": "code",
   "execution_count": 58,
   "metadata": {},
   "outputs": [],
   "source": [
    "class LinearRegression():\n",
    "        \n",
    "        #********************************************************************\n",
    "        # INITIALIZING  \n",
    "        #********************************************************************\n",
    "        def __init__(self, mode = \"NE\", learn_rate = 0.01, nb_epochs = 1000, batch_size = 32, beta = 0.9, tolerance = 1e-4):\n",
    "            if mode not in [\"NE\", \"GD\", \"GDM\", \"SGD\", \"SGDM\"]:\n",
    "                raise ValueError(mode + \" is not a valid choice.\")\n",
    "            self.mode = mode\n",
    "            # parameters\n",
    "            self.Theta = None\n",
    "            # learning rate  \n",
    "            self.learn_rate = learn_rate\n",
    "            # number of max iterations \n",
    "            self.nb_epochs = nb_epochs\n",
    "            # optimizing with momentum \n",
    "            self.beta = beta\n",
    "            self.mo = None\n",
    "            # the minimum value of norm(grad) for momentum optimization\n",
    "            self.tolerance = tolerance\n",
    "            # size of batch in SGD\n",
    "            self.batch_size = batch_size\n",
    "        \n",
    "        \n",
    "        #********************************************************************\n",
    "        # FIT \n",
    "        #********************************************************************\n",
    "        \n",
    "        def fit(self, X, Y):\n",
    "            X_1 = np.c_[np.ones(X.shape[0]), X]\n",
    "            \n",
    "            #----------------------------------------------------------------\n",
    "            # The exact solution\n",
    "            #----------------------------------------------------------------\n",
    "            \n",
    "            if self.mode == \"NE\":\n",
    "                self.Theta = np.linalg.inv(X_1.T.dot(X_1)).dot(X_1.T.dot(Y))\n",
    "                return True\n",
    "            \n",
    "            \n",
    "            #----------------------------------------------------------------\n",
    "            # Gradient Descent\n",
    "            #----------------------------------------------------------------\n",
    "            \n",
    "            elif self.mode == \"GD\":\n",
    "                if self.Theta is None:\n",
    "                    self.Theta = np.zeros((X_1.shape[1], 1))\n",
    "                grad = X_1.T.dot(X_1.dot(self.Theta) - Y)/X_1.shape[0]\n",
    "                for i in range(self.nb_epochs):\n",
    "                    # check that gradient is not too small value\n",
    "                    if np.linalg.norm(grad) > self.tolerance:\n",
    "                        self.Theta -= self.learn_rate*grad\n",
    "                        grad = X_1.T.dot(X_1.dot(self.Theta) - Y)/X_1.shape[0]\n",
    "                return True\n",
    "            \n",
    "            \n",
    "            #----------------------------------------------------------------\n",
    "            # Gradient Descent with Momentum\n",
    "            #----------------------------------------------------------------\n",
    "            \n",
    "            elif self.mode == \"GDM\":\n",
    "                if self.Theta is None:\n",
    "                    self.Theta = np.zeros((X_1.shape[1], 1))\n",
    "                    self.mo = np.zeros_like(self.Theta)\n",
    "                grad = X_1.T.dot(X_1.dot(self.Theta) - Y)/X_1.shape[0]\n",
    "                for i in range(self.nb_epochs):\n",
    "                    # check that gradient is not too small value\n",
    "                    if np.linalg.norm(grad) > self.tolerance:\n",
    "                        # momentum optimization\n",
    "                        self.mo = self.beta*self.mo + grad\n",
    "                        self.Theta -= self.learn_rate*self.mo\n",
    "                        grad = X_1.T.dot(X_1.dot(self.Theta) - Y)/X_1.shape[0]\n",
    "                return True\n",
    "            \n",
    "            \n",
    "            #----------------------------------------------------------------\n",
    "            # Stochastic Gradient Descent\n",
    "            #----------------------------------------------------------------\n",
    "            \n",
    "            elif self.mode == \"SGD\":                \n",
    "                if self.Theta is None:\n",
    "                    self.Theta = np.zeros((X_1.shape[1], 1))\n",
    "                    \n",
    "                # Calculating number of batches\n",
    "                nb_X = X_1.shape[0]\n",
    "                nb_batch = int(nb_X / self.batch_size)\n",
    "            \n",
    "                # If size of last batch is less that batch_size\n",
    "                # then consider it as another batch anyway\n",
    "                if nb_X % nb_batch != 0:\n",
    "                    nb_batch += 1\n",
    "                 \n",
    "                for i in range(self.nb_epochs):\n",
    "                    # returns permuted range \n",
    "                    permuted_nb_batch = np.random.permutation(nb_batch)\n",
    "                \n",
    "                    for batch in range(nb_batch):\n",
    "                        # we run through the list of permuted batches\n",
    "                        # len(permuted_nb_batch) = nb_batch\n",
    "                        j = permuted_nb_batch[batch]                    \n",
    "                        x_batch = X_1[j*self.batch_size:(j+1)*self.batch_size,:]\n",
    "                        y_batch = Y[j*self.batch_size:(j+1)*self.batch_size,:]\n",
    "                                        \n",
    "                        grad = (x_batch.T.dot(x_batch.dot(self.Theta) - y_batch)) / x_batch.shape[0]                        \n",
    "                        self.Theta -= self.learn_rate*grad\n",
    "                return True\n",
    "            \n",
    "            \n",
    "            #----------------------------------------------------------------\n",
    "            # Stochastic Gradient Descent with momentum\n",
    "            #----------------------------------------------------------------\n",
    "            \n",
    "            elif self.mode == \"SGDM\":                \n",
    "                if self.Theta is None:\n",
    "                    self.Theta = np.zeros((X_1.shape[1], 1))\n",
    "                    self.mo = np.zeros_like(self.Theta)\n",
    "                    \n",
    "                # Calculating number of batches\n",
    "                nb_X = X_1.shape[0]\n",
    "                nb_batch = int(nb_X / self.batch_size)\n",
    "            \n",
    "                # If size of last batch is less that batch_size\n",
    "                # then consider it as another batch anyway\n",
    "                if nb_X % nb_batch != 0:\n",
    "                    nb_batch += 1\n",
    "                 \n",
    "                for i in range(self.nb_epochs):\n",
    "                    # returns permuted range \n",
    "                    permuted_nb_batch = np.random.permutation(nb_batch)\n",
    "                \n",
    "                    for batch in range(nb_batch):\n",
    "                        # we run through the list of permuted batches\n",
    "                        # len(permuted_nb_batch) = nb_batch\n",
    "                        j = permuted_nb_batch[batch]                    \n",
    "                        x_batch = X_1[j*self.batch_size:(j+1)*self.batch_size,:]\n",
    "                        y_batch = Y[j*self.batch_size:(j+1)*self.batch_size,:]\n",
    "                                        \n",
    "                        grad = (x_batch.T.dot(x_batch.dot(self.Theta) - y_batch)) / x_batch.shape[0]\n",
    "                        # momentum optimization\n",
    "                        self.mo = self.beta*self.mo + grad\n",
    "                        self.Theta -= self.learn_rate*self.mo\n",
    "                return True\n",
    "               \n",
    "        \n",
    "        #********************************************************************\n",
    "        # PREDICT \n",
    "        #********************************************************************                \n",
    "            \n",
    "        def predict(self, X):\n",
    "            if self.Theta is None:\n",
    "                return False\n",
    "            else:\n",
    "                X_1 = np.c_[np.ones(X.shape[0]), X]\n",
    "                return X_1.dot(self.Theta)"
   ]
  },
  {
   "cell_type": "markdown",
   "metadata": {},
   "source": [
    "### Examples"
   ]
  },
  {
   "cell_type": "markdown",
   "metadata": {},
   "source": [
    "### Simple data set"
   ]
  },
  {
   "cell_type": "code",
   "execution_count": 59,
   "metadata": {},
   "outputs": [],
   "source": [
    "import matplotlib.pyplot as plt"
   ]
  },
  {
   "cell_type": "code",
   "execution_count": 60,
   "metadata": {},
   "outputs": [
    {
     "name": "stdout",
     "output_type": "stream",
     "text": [
      "(50, 1) (50, 1)\n"
     ]
    }
   ],
   "source": [
    "x_ = np.array(10 * np.random.rand(50))\n",
    "y_ = 2 * x_ - 5 + np.random.randn(50)\n",
    "x = x_.reshape(50, 1)\n",
    "y = y_.reshape(50, 1)\n",
    "print(x.shape, y.shape)"
   ]
  },
  {
   "cell_type": "code",
   "execution_count": 61,
   "metadata": {},
   "outputs": [
    {
     "data": {
      "text/plain": [
       "array([[-4.94262635],\n",
       "       [ 2.01164319]])"
      ]
     },
     "execution_count": 61,
     "metadata": {},
     "output_type": "execute_result"
    }
   ],
   "source": [
    "simple_modelNE = LinearRegression(mode=\"NE\")\n",
    "simple_modelNE.fit(x, y)\n",
    "y_predNE = simple_modelNE.predict(x)\n",
    "simple_modelNE.Theta"
   ]
  },
  {
   "cell_type": "code",
   "execution_count": 62,
   "metadata": {},
   "outputs": [
    {
     "data": {
      "text/plain": [
       "array([[-4.46352501],\n",
       "       [ 1.94481543]])"
      ]
     },
     "execution_count": 62,
     "metadata": {},
     "output_type": "execute_result"
    }
   ],
   "source": [
    "simple_modelGD = LinearRegression(mode=\"GD\", nb_epochs=1000)\n",
    "simple_modelGD.fit(x, y)\n",
    "y_predGD = simple_modelGD.predict(x)\n",
    "simple_modelGD.Theta"
   ]
  },
  {
   "cell_type": "code",
   "execution_count": 63,
   "metadata": {},
   "outputs": [
    {
     "data": {
      "text/plain": [
       "array([[-4.65965577],\n",
       "       [ 1.97869531]])"
      ]
     },
     "execution_count": 63,
     "metadata": {},
     "output_type": "execute_result"
    }
   ],
   "source": [
    "simple_modelGDM = LinearRegression(mode=\"GDM\", nb_epochs=100)\n",
    "simple_modelGDM.fit(x, y)\n",
    "y_predGDM = simple_modelGDM.predict(x)\n",
    "simple_modelGDM.Theta"
   ]
  },
  {
   "cell_type": "code",
   "execution_count": 72,
   "metadata": {},
   "outputs": [
    {
     "data": {
      "text/plain": [
       "array([[-4.43340892],\n",
       "       [ 1.93239913]])"
      ]
     },
     "execution_count": 72,
     "metadata": {},
     "output_type": "execute_result"
    }
   ],
   "source": [
    "simple_modelSGD = LinearRegression(mode=\"SGD\", nb_epochs=2000)\n",
    "simple_modelSGD.fit(x, y)\n",
    "y_predSGD = simple_modelSGD.predict(x)\n",
    "simple_modelSGD.Theta"
   ]
  },
  {
   "cell_type": "code",
   "execution_count": 75,
   "metadata": {},
   "outputs": [
    {
     "data": {
      "text/plain": [
       "array([[-4.43013071],\n",
       "       [ 1.93240852]])"
      ]
     },
     "execution_count": 75,
     "metadata": {},
     "output_type": "execute_result"
    }
   ],
   "source": [
    "simple_modelSGDM = LinearRegression(mode=\"SGDM\", nb_epochs=150)\n",
    "simple_modelSGDM.fit(x, y)\n",
    "y_predSGDM = simple_modelSGDM.predict(x)\n",
    "simple_modelSGDM.Theta"
   ]
  },
  {
   "cell_type": "code",
   "execution_count": 76,
   "metadata": {},
   "outputs": [
    {
     "data": {
      "text/plain": [
       "[<matplotlib.lines.Line2D at 0x103e7cc0>]"
      ]
     },
     "execution_count": 76,
     "metadata": {},
     "output_type": "execute_result"
    },
    {
     "data": {
      "image/png": "[encoded data removed]",
      "text/plain": [
       "<matplotlib.figure.Figure at 0x1038f160>"
      ]
     },
     "metadata": {},
     "output_type": "display_data"
    }
   ],
   "source": [
    "plt.scatter(x, y)\n",
    "plt.plot(x, y_predNE, \"r-\")\n",
    "plt.plot(x, y_predGD, \"m*\")\n",
    "plt.plot(x, y_predGDM, \"g-\")"
   ]
  },
  {
   "cell_type": "markdown",
   "metadata": {},
   "source": [
    "### Data set with more features"
   ]
  },
  {
   "cell_type": "code",
   "execution_count": 77,
   "metadata": {},
   "outputs": [
    {
     "name": "stdout",
     "output_type": "stream",
     "text": [
      "Wall time: 0 ns\n"
     ]
    }
   ],
   "source": [
    "%%time\n",
    "X = np.random.rand(500, 10)\n",
    "X_1 = np.c_[np.ones(X.shape[0]), X]\n",
    "Theta_1 = np.array([[-5,10,2,7,4.5,0.1,0.01,-1,1,3,0]])\n",
    "Err = np.random.normal(0, 0.1, size=(X_1.shape[0], 1)) \n",
    "Y = X_1.dot(Theta_1.T) + Err"
   ]
  },
  {
   "cell_type": "code",
   "execution_count": 78,
   "metadata": {},
   "outputs": [
    {
     "name": "stdout",
     "output_type": "stream",
     "text": [
      "[-5.04240642] --> [-5.]\n",
      "[ 9.99975198] --> [ 10.]\n",
      "[ 2.01122267] --> [ 2.]\n",
      "[ 7.01011145] --> [ 7.]\n",
      "[ 4.54099677] --> [ 4.5]\n",
      "[ 0.08029301] --> [ 0.1]\n",
      "[ 0.02355196] --> [ 0.01]\n",
      "[-1.00408603] --> [-1.]\n",
      "[ 1.00492569] --> [ 1.]\n",
      "[ 3.0444742] --> [ 3.]\n",
      "[-0.0242385] --> [ 0.]\n",
      "Wall time: 10 ms\n"
     ]
    }
   ],
   "source": [
    "%%time\n",
    "modelNE = LinearRegression(mode=\"NE\")\n",
    "modelNE.fit(X, Y)\n",
    "for i in range(modelNE.Theta.shape[0]):\n",
    "    print(modelNE.Theta[i], '-->', Theta_1.T[i])"
   ]
  },
  {
   "cell_type": "code",
   "execution_count": 83,
   "metadata": {},
   "outputs": [
    {
     "name": "stdout",
     "output_type": "stream",
     "text": [
      "[-4.93145372] --> [-5.]\n",
      "[ 9.98609764] --> [ 10.]\n",
      "[ 1.98896776] --> [ 2.]\n",
      "[ 6.99246429] --> [ 7.]\n",
      "[ 4.51527334] --> [ 4.5]\n",
      "[ 0.05557188] --> [ 0.1]\n",
      "[ 0.00237696] --> [ 0.01]\n",
      "[-1.03191733] --> [-1.]\n",
      "[ 0.9858269] --> [ 1.]\n",
      "[ 3.02098167] --> [ 3.]\n",
      "[-0.04510464] --> [ 0.]\n",
      "Wall time: 810 ms\n"
     ]
    }
   ],
   "source": [
    "%%time\n",
    "modelGD = LinearRegression(mode=\"GD\", nb_epochs=20000)\n",
    "modelGD.fit(X, Y)\n",
    "for i in range(modelGD.Theta.shape[0]):\n",
    "    print(modelGD.Theta[i], '-->', Theta_1.T[i])"
   ]
  },
  {
   "cell_type": "code",
   "execution_count": 84,
   "metadata": {},
   "outputs": [
    {
     "name": "stdout",
     "output_type": "stream",
     "text": [
      "[-4.93829394] --> [-5.]\n",
      "[ 9.98693958] --> [ 10.]\n",
      "[ 1.99033954] --> [ 2.]\n",
      "[ 6.99355277] --> [ 7.]\n",
      "[ 4.51685964] --> [ 4.5]\n",
      "[ 0.05709516] --> [ 0.1]\n",
      "[ 0.00368249] --> [ 0.01]\n",
      "[-1.03020187] --> [-1.]\n",
      "[ 0.98700401] --> [ 1.]\n",
      "[ 3.02243093] --> [ 3.]\n",
      "[-0.04381882] --> [ 0.]\n",
      "Wall time: 130 ms\n"
     ]
    }
   ],
   "source": [
    "%%time\n",
    "modelGDM = LinearRegression(mode=\"GDM\", nb_epochs=2000)\n",
    "modelGDM.fit(X, Y)\n",
    "for i in range(modelGDM.Theta.shape[0]):\n",
    "    print(modelGDM.Theta[i], '-->', Theta_1.T[i])"
   ]
  },
  {
   "cell_type": "code",
   "execution_count": 85,
   "metadata": {},
   "outputs": [
    {
     "name": "stdout",
     "output_type": "stream",
     "text": [
      "[-4.99184612] --> [-5.]\n",
      "[ 9.99114998] --> [ 10.]\n",
      "[ 2.00126997] --> [ 2.]\n",
      "[ 7.00044488] --> [ 7.]\n",
      "[ 4.52983349] --> [ 4.5]\n",
      "[ 0.06658814] --> [ 0.1]\n",
      "[ 0.01512861] --> [ 0.01]\n",
      "[-1.01796314] --> [-1.]\n",
      "[ 0.99814128] --> [ 1.]\n",
      "[ 3.03576961] --> [ 3.]\n",
      "[-0.03250531] --> [ 0.]\n",
      "Wall time: 630 ms\n"
     ]
    }
   ],
   "source": [
    "%%time\n",
    "modelSGD = LinearRegression(mode=\"SGD\", nb_epochs=1500)\n",
    "modelSGD.fit(X, Y)\n",
    "for i in range(modelSGD.Theta.shape[0]):\n",
    "    print(modelSGD.Theta[i], '-->', Theta_1.T[i])"
   ]
  },
  {
   "cell_type": "code",
   "execution_count": 91,
   "metadata": {},
   "outputs": [
    {
     "name": "stdout",
     "output_type": "stream",
     "text": [
      "[-4.99521321] --> [-5.]\n",
      "[ 9.99180338] --> [ 10.]\n",
      "[ 2.00124641] --> [ 2.]\n",
      "[ 7.00091013] --> [ 7.]\n",
      "[ 4.53108807] --> [ 4.5]\n",
      "[ 0.06727334] --> [ 0.1]\n",
      "[ 0.01570909] --> [ 0.01]\n",
      "[-1.01762562] --> [-1.]\n",
      "[ 0.99957718] --> [ 1.]\n",
      "[ 3.03672533] --> [ 3.]\n",
      "[-0.03184378] --> [ 0.]\n",
      "Wall time: 110 ms\n"
     ]
    }
   ],
   "source": [
    "%%time\n",
    "modelSGDM = LinearRegression(mode=\"SGDM\", nb_epochs=150)\n",
    "modelSGDM.fit(X, Y)\n",
    "for i in range(modelSGDM.Theta.shape[0]):\n",
    "    print(modelSGDM.Theta[i], '-->', Theta_1.T[i])"
   ]
  },
  {
   "cell_type": "code",
   "execution_count": null,
   "metadata": {},
   "outputs": [],
   "source": []
  }
 ],
 "metadata": {
  "kernelspec": {
   "display_name": "Python 3",
   "language": "python",
   "name": "python3"
  },
  "language_info": {
   "codemirror_mode": {
    "name": "ipython",
    "version": 3
   },
   "file_extension": ".py",
   "mimetype": "text/x-python",
   "name": "python",
   "nbconvert_exporter": "python",
   "pygments_lexer": "ipython3",
   "version": "3.6.3"
  }
 },
 "nbformat": 4,
 "nbformat_minor": 2
}
